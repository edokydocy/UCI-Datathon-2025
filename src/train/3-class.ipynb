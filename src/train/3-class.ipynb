{
 "cells": [
  {
   "metadata": {},
   "cell_type": "markdown",
   "source": [
    "# 3-class classification solution\n",
    "\n",
    "Start with prepare the dataset:"
   ],
   "id": "411fa5749d1019d9"
  },
  {
   "metadata": {
    "ExecuteTime": {
     "end_time": "2025-04-13T03:40:38.782004Z",
     "start_time": "2025-04-13T03:40:35.387684Z"
    }
   },
   "cell_type": "code",
   "source": [
    "from cProfile import label\n",
    "\n",
    "import pandas as pd\n",
    "\n",
    "df = pd.read_csv(\"../../data/cleaned_train.csv\")\n",
    "\n",
    "def get_value(row: \"a row of dataframe\"):\n",
    "    if row['winner_model_a'] == 1:\n",
    "        return 0\n",
    "    elif row['winner_model_b'] == 1:\n",
    "        return 1\n",
    "    else:\n",
    "        return 2\n",
    "\n",
    "df[\"label\"] = df.apply(get_value, axis = 1)     # axis=1: apply to every ROW\n",
    "\n",
    "def gen_input(row):\n",
    "    return f\"[PROMPT] {row['prompt']} [RESPONSE_A] {row['response_a']} [RESPONSE_B] {row['response_b']}\"\n",
    "\n",
    "df[\"input\"] = df.apply(gen_input, axis=1)\n",
    "df[[\"label\",\"input\"]]"
   ],
   "id": "b5ec4891b61ce1b5",
   "outputs": [
    {
     "data": {
      "text/plain": [
       "       label                                              input\n",
       "0          0  [PROMPT] [\"Is it morally right to try to have ...\n",
       "1          1  [PROMPT] [\"What is the difference between marr...\n",
       "2          2  [PROMPT] [\"explain function calling. how would...\n",
       "3          0  [PROMPT] [\"How can I create a test set for a v...\n",
       "4          1  [PROMPT] [\"What is the best way to travel from...\n",
       "...      ...                                                ...\n",
       "57472      0  [PROMPT] [\"A simple mnemonic for \\u03c0:\\n\\\"Ho...\n",
       "57473      0  [PROMPT] [\"In python, implement a naive Bayes ...\n",
       "57474      0  [PROMPT] [\"is it unethical to work on building...\n",
       "57475      1  [PROMPT] [\"If a bait contains 0,0025% bromadio...\n",
       "57476      0  [PROMPT] [\"three kids eat three apples in thre...\n",
       "\n",
       "[57477 rows x 2 columns]"
      ],
      "text/html": [
       "<div>\n",
       "<style scoped>\n",
       "    .dataframe tbody tr th:only-of-type {\n",
       "        vertical-align: middle;\n",
       "    }\n",
       "\n",
       "    .dataframe tbody tr th {\n",
       "        vertical-align: top;\n",
       "    }\n",
       "\n",
       "    .dataframe thead th {\n",
       "        text-align: right;\n",
       "    }\n",
       "</style>\n",
       "<table border=\"1\" class=\"dataframe\">\n",
       "  <thead>\n",
       "    <tr style=\"text-align: right;\">\n",
       "      <th></th>\n",
       "      <th>label</th>\n",
       "      <th>input</th>\n",
       "    </tr>\n",
       "  </thead>\n",
       "  <tbody>\n",
       "    <tr>\n",
       "      <th>0</th>\n",
       "      <td>0</td>\n",
       "      <td>[PROMPT] [\"Is it morally right to try to have ...</td>\n",
       "    </tr>\n",
       "    <tr>\n",
       "      <th>1</th>\n",
       "      <td>1</td>\n",
       "      <td>[PROMPT] [\"What is the difference between marr...</td>\n",
       "    </tr>\n",
       "    <tr>\n",
       "      <th>2</th>\n",
       "      <td>2</td>\n",
       "      <td>[PROMPT] [\"explain function calling. how would...</td>\n",
       "    </tr>\n",
       "    <tr>\n",
       "      <th>3</th>\n",
       "      <td>0</td>\n",
       "      <td>[PROMPT] [\"How can I create a test set for a v...</td>\n",
       "    </tr>\n",
       "    <tr>\n",
       "      <th>4</th>\n",
       "      <td>1</td>\n",
       "      <td>[PROMPT] [\"What is the best way to travel from...</td>\n",
       "    </tr>\n",
       "    <tr>\n",
       "      <th>...</th>\n",
       "      <td>...</td>\n",
       "      <td>...</td>\n",
       "    </tr>\n",
       "    <tr>\n",
       "      <th>57472</th>\n",
       "      <td>0</td>\n",
       "      <td>[PROMPT] [\"A simple mnemonic for \\u03c0:\\n\\\"Ho...</td>\n",
       "    </tr>\n",
       "    <tr>\n",
       "      <th>57473</th>\n",
       "      <td>0</td>\n",
       "      <td>[PROMPT] [\"In python, implement a naive Bayes ...</td>\n",
       "    </tr>\n",
       "    <tr>\n",
       "      <th>57474</th>\n",
       "      <td>0</td>\n",
       "      <td>[PROMPT] [\"is it unethical to work on building...</td>\n",
       "    </tr>\n",
       "    <tr>\n",
       "      <th>57475</th>\n",
       "      <td>1</td>\n",
       "      <td>[PROMPT] [\"If a bait contains 0,0025% bromadio...</td>\n",
       "    </tr>\n",
       "    <tr>\n",
       "      <th>57476</th>\n",
       "      <td>0</td>\n",
       "      <td>[PROMPT] [\"three kids eat three apples in thre...</td>\n",
       "    </tr>\n",
       "  </tbody>\n",
       "</table>\n",
       "<p>57477 rows × 2 columns</p>\n",
       "</div>"
      ]
     },
     "execution_count": 5,
     "metadata": {},
     "output_type": "execute_result"
    }
   ],
   "execution_count": 5
  },
  {
   "metadata": {},
   "cell_type": "markdown",
   "source": [
    "Then we apply the model from transformer.\n",
    "\n",
    "First, we tokenize our input information, which means making them into numbers that BERT can understand."
   ],
   "id": "174e5d5d165eb405"
  },
  {
   "metadata": {
    "ExecuteTime": {
     "end_time": "2025-04-13T03:46:31.308381Z",
     "start_time": "2025-04-13T03:40:38.845597Z"
    }
   },
   "cell_type": "code",
   "source": [
    "from transformers import BertTokenizer\n",
    "\n",
    "tknzr = BertTokenizer.from_pretrained(\"bert-base-uncased\")\n",
    "# tokenize\n",
    "encodings = tknzr(\n",
    "    df[\"input\"].tolist(),\n",
    "    truncation=True,\n",
    "    padding=True,\n",
    "    max_length=512,\n",
    "    return_tensors=\"pt\" # pytorch tensors\n",
    ")"
   ],
   "id": "24444d7872f161a0",
   "outputs": [],
   "execution_count": 6
  },
  {
   "metadata": {},
   "cell_type": "markdown",
   "source": "Second, we create dataset object for pytorch:",
   "id": "2ed0e7ef9617a034"
  },
  {
   "metadata": {
    "ExecuteTime": {
     "end_time": "2025-04-13T03:46:31.431721Z",
     "start_time": "2025-04-13T03:46:31.418413Z"
    }
   },
   "cell_type": "code",
   "source": [
    "import torch\n",
    "from torch.utils.data import Dataset\n",
    "\n",
    "class LLMPDataset(Dataset):\n",
    "    def __init__(self, encodings, labels):\n",
    "        self.encodings = encodings  # input_ids and attention_mask\n",
    "        self.labels = labels\n",
    "\n",
    "    def __getitem__(self, i):\n",
    "        item = {key: val[i] for key, val in self.encodings.items()}\n",
    "        item[\"labels\"] = torch.tensor(self.labels[i])\n",
    "        return item\n",
    "\n",
    "    def __len__(self):\n",
    "        return len(self.labels)\n",
    "\n",
    "dst = LLMPDataset(encodings, df['label'].tolist())"
   ],
   "id": "5297fc52b3556e38",
   "outputs": [],
   "execution_count": 7
  },
  {
   "metadata": {},
   "cell_type": "markdown",
   "source": "Load a pre-trained model:",
   "id": "73034e885afc9c48"
  },
  {
   "metadata": {
    "ExecuteTime": {
     "end_time": "2025-04-13T03:46:32.111361Z",
     "start_time": "2025-04-13T03:46:31.438251Z"
    }
   },
   "cell_type": "code",
   "source": [
    "from transformers import BertForSequenceClassification\n",
    "\n",
    "# use the model with 3-output labels\n",
    "model = BertForSequenceClassification.from_pretrained(\"bert-base-uncased\", num_labels = 3)"
   ],
   "id": "bf052747533faef8",
   "outputs": [
    {
     "name": "stderr",
     "output_type": "stream",
     "text": [
      "Some weights of BertForSequenceClassification were not initialized from the model checkpoint at bert-base-uncased and are newly initialized: ['classifier.bias', 'classifier.weight']\n",
      "You should probably TRAIN this model on a down-stream task to be able to use it for predictions and inference.\n"
     ]
    }
   ],
   "execution_count": 8
  },
  {
   "metadata": {},
   "cell_type": "markdown",
   "source": "Set trainning arguments:",
   "id": "600f5325b234cbd2"
  },
  {
   "metadata": {
    "ExecuteTime": {
     "end_time": "2025-04-13T03:46:32.157827Z",
     "start_time": "2025-04-13T03:46:32.148042Z"
    }
   },
   "cell_type": "code",
   "source": [
    "import accelerate\n",
    "print(accelerate.__version__)"
   ],
   "id": "94a6eb9bfce710d0",
   "outputs": [
    {
     "name": "stdout",
     "output_type": "stream",
     "text": [
      "0.26.0\n"
     ]
    }
   ],
   "execution_count": 9
  },
  {
   "metadata": {
    "ExecuteTime": {
     "end_time": "2025-04-13T03:46:32.268190Z",
     "start_time": "2025-04-13T03:46:32.245833Z"
    }
   },
   "cell_type": "code",
   "source": [
    "from transformers import TrainingArguments\n",
    "import accelerate\n",
    "\n",
    "train_arg = TrainingArguments(\n",
    "    output_dir= \"./train_result\",\n",
    "    num_train_epochs=3, # number of passes?\n",
    "    per_device_train_batch_size=8,  # batch size\n",
    "    per_device_eval_batch_size=8,\n",
    "    eval_strategy = \"epoch\",\n",
    "    weight_decay= 0.01,     # regularization\n",
    "    logging_dir= \"./logs\",\n",
    "    logging_steps=10\n",
    ")"
   ],
   "id": "3231a4e2a1f78a3b",
   "outputs": [],
   "execution_count": 10
  },
  {
   "metadata": {},
   "cell_type": "markdown",
   "source": "Then, train the model:",
   "id": "d1d8f17678586255"
  },
  {
   "metadata": {
    "ExecuteTime": {
     "end_time": "2025-04-13T03:46:33.950112Z",
     "start_time": "2025-04-13T03:46:32.285158Z"
    }
   },
   "cell_type": "code",
   "source": "!pip install torch torchvision torchaudio --index-url https://download.pytorch.org/whl/cu118\n",
   "id": "e38f9e0ec7fd9bca",
   "outputs": [
    {
     "name": "stdout",
     "output_type": "stream",
     "text": [
      "Looking in indexes: https://download.pytorch.org/whl/cu118\n",
      "Requirement already satisfied: torch in d:\\projects\\uci-datathon-2025\\.venv\\lib\\site-packages (2.6.0+cu118)\n",
      "Requirement already satisfied: torchvision in d:\\projects\\uci-datathon-2025\\.venv\\lib\\site-packages (0.21.0)\n",
      "Requirement already satisfied: torchaudio in d:\\projects\\uci-datathon-2025\\.venv\\lib\\site-packages (2.6.0)\n",
      "Requirement already satisfied: filelock in d:\\projects\\uci-datathon-2025\\.venv\\lib\\site-packages (from torch) (3.18.0)\n",
      "Requirement already satisfied: typing-extensions>=4.10.0 in d:\\projects\\uci-datathon-2025\\.venv\\lib\\site-packages (from torch) (4.13.2)\n",
      "Requirement already satisfied: networkx in d:\\projects\\uci-datathon-2025\\.venv\\lib\\site-packages (from torch) (3.4.2)\n",
      "Requirement already satisfied: jinja2 in d:\\projects\\uci-datathon-2025\\.venv\\lib\\site-packages (from torch) (3.1.6)\n",
      "Requirement already satisfied: fsspec in d:\\projects\\uci-datathon-2025\\.venv\\lib\\site-packages (from torch) (2025.3.2)\n",
      "Requirement already satisfied: sympy==1.13.1 in d:\\projects\\uci-datathon-2025\\.venv\\lib\\site-packages (from torch) (1.13.1)\n",
      "Requirement already satisfied: mpmath<1.4,>=1.1.0 in d:\\projects\\uci-datathon-2025\\.venv\\lib\\site-packages (from sympy==1.13.1->torch) (1.3.0)\n",
      "Requirement already satisfied: numpy in d:\\projects\\uci-datathon-2025\\.venv\\lib\\site-packages (from torchvision) (1.23.5)\n",
      "Requirement already satisfied: pillow!=8.3.*,>=5.3.0 in d:\\projects\\uci-datathon-2025\\.venv\\lib\\site-packages (from torchvision) (11.2.1)\n",
      "Requirement already satisfied: MarkupSafe>=2.0 in d:\\projects\\uci-datathon-2025\\.venv\\lib\\site-packages (from jinja2->torch) (3.0.2)\n"
     ]
    },
    {
     "name": "stderr",
     "output_type": "stream",
     "text": [
      "\n",
      "[notice] A new release of pip is available: 23.2.1 -> 25.0.1\n",
      "[notice] To update, run: python.exe -m pip install --upgrade pip\n"
     ]
    }
   ],
   "execution_count": 11
  },
  {
   "metadata": {
    "ExecuteTime": {
     "end_time": "2025-04-13T03:46:33.980132Z",
     "start_time": "2025-04-13T03:46:33.968193Z"
    }
   },
   "cell_type": "code",
   "source": [
    "import torch\n",
    "print(torch.cuda.is_available())  # should return True\n",
    "print(torch.cuda.get_device_name(0))  # prints your GPU name if available"
   ],
   "id": "e1591952444347a6",
   "outputs": [
    {
     "name": "stdout",
     "output_type": "stream",
     "text": [
      "True\n",
      "NVIDIA GeForce RTX 4060 Laptop GPU\n"
     ]
    }
   ],
   "execution_count": 12
  },
  {
   "metadata": {
    "jupyter": {
     "is_executing": true
    },
    "ExecuteTime": {
     "start_time": "2025-04-13T03:46:33.997383Z"
    }
   },
   "cell_type": "code",
   "source": [
    "from transformers import Trainer\n",
    "\n",
    "trainer = Trainer(\n",
    "    model = model,\n",
    "    args= train_arg,\n",
    "    train_dataset= dst,\n",
    "    eval_dataset= dst\n",
    ")\n",
    "\n",
    "trainer.train()"
   ],
   "id": "e165b91ade12088f",
   "outputs": [
    {
     "data": {
      "text/plain": [
       "<IPython.core.display.HTML object>"
      ],
      "text/html": [
       "\n",
       "    <div>\n",
       "      \n",
       "      <progress value='87' max='21555' style='width:300px; height:20px; vertical-align: middle;'></progress>\n",
       "      [   87/21555 00:44 < 3:05:47, 1.93 it/s, Epoch 0.01/3]\n",
       "    </div>\n",
       "    <table border=\"1\" class=\"dataframe\">\n",
       "  <thead>\n",
       " <tr style=\"text-align: left;\">\n",
       "      <th>Epoch</th>\n",
       "      <th>Training Loss</th>\n",
       "      <th>Validation Loss</th>\n",
       "    </tr>\n",
       "  </thead>\n",
       "  <tbody>\n",
       "  </tbody>\n",
       "</table><p>"
      ]
     },
     "metadata": {},
     "output_type": "display_data"
    }
   ],
   "execution_count": null
  },
  {
   "metadata": {},
   "cell_type": "markdown",
   "source": "Evaluate the result:",
   "id": "90f4dde92fbde582"
  },
  {
   "metadata": {},
   "cell_type": "code",
   "outputs": [],
   "execution_count": null,
   "source": [
    "results = trainer.evaluate()\n",
    "print(results)"
   ],
   "id": "dae6bbca0a25b96c"
  }
 ],
 "metadata": {
  "kernelspec": {
   "display_name": "Python 3",
   "language": "python",
   "name": "python3"
  },
  "language_info": {
   "codemirror_mode": {
    "name": "ipython",
    "version": 2
   },
   "file_extension": ".py",
   "mimetype": "text/x-python",
   "name": "python",
   "nbconvert_exporter": "python",
   "pygments_lexer": "ipython2",
   "version": "2.7.6"
  }
 },
 "nbformat": 4,
 "nbformat_minor": 5
}
