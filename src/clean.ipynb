{
 "cells": [
  {
   "metadata": {},
   "cell_type": "markdown",
   "source": [
    "# Cleaning data set\n",
    "First, load data from csv file."
   ],
   "id": "d10eda5169615081"
  },
  {
   "metadata": {
    "ExecuteTime": {
     "end_time": "2025-04-12T21:32:31.120748Z",
     "start_time": "2025-04-12T21:32:29.676323Z"
    }
   },
   "cell_type": "code",
   "source": [
    "import pandas as pd\n",
    "\n",
    "train_df = pd.read_csv(\"../data/train.csv\")"
   ],
   "id": "819c79d03ab0f633",
   "outputs": [],
   "execution_count": 1
  },
  {
   "metadata": {},
   "cell_type": "markdown",
   "source": "Second, we can take a glimpse at the data frame",
   "id": "2e51b90ff2acad75"
  },
  {
   "metadata": {
    "ExecuteTime": {
     "end_time": "2025-04-12T21:35:52.741389Z",
     "start_time": "2025-04-12T21:35:52.725409Z"
    }
   },
   "cell_type": "code",
   "source": "train_df.head()\n",
   "id": "f6508dde8d6e854c",
   "outputs": [
    {
     "data": {
      "text/plain": [
       "       id             model_a              model_b  \\\n",
       "0   30192  gpt-4-1106-preview           gpt-4-0613   \n",
       "1   53567           koala-13b           gpt-4-0613   \n",
       "2   65089  gpt-3.5-turbo-0613       mistral-medium   \n",
       "3   96401    llama-2-13b-chat  mistral-7b-instruct   \n",
       "4  198779           koala-13b   gpt-3.5-turbo-0314   \n",
       "\n",
       "                                              prompt  \\\n",
       "0  [\"Is it morally right to try to have a certain...   \n",
       "1  [\"What is the difference between marriage lice...   \n",
       "2  [\"explain function calling. how would you call...   \n",
       "3  [\"How can I create a test set for a very rare ...   \n",
       "4  [\"What is the best way to travel from Tel-Aviv...   \n",
       "\n",
       "                                          response_a  \\\n",
       "0  [\"The question of whether it is morally right ...   \n",
       "1  [\"A marriage license is a legal document that ...   \n",
       "2  [\"Function calling is the process of invoking ...   \n",
       "3  [\"Creating a test set for a very rare category...   \n",
       "4  [\"The best way to travel from Tel Aviv to Jeru...   \n",
       "\n",
       "                                          response_b  winner_model_a  \\\n",
       "0  [\"As an AI, I don't have personal beliefs or o...               1   \n",
       "1  [\"A marriage license and a marriage certificat...               0   \n",
       "2  [\"Function calling is the process of invoking ...               0   \n",
       "3  [\"When building a classifier for a very rare c...               1   \n",
       "4  [\"The best way to travel from Tel-Aviv to Jeru...               0   \n",
       "\n",
       "   winner_model_b  winner_tie  \n",
       "0               0           0  \n",
       "1               1           0  \n",
       "2               0           1  \n",
       "3               0           0  \n",
       "4               1           0  "
      ],
      "text/html": [
       "<div>\n",
       "<style scoped>\n",
       "    .dataframe tbody tr th:only-of-type {\n",
       "        vertical-align: middle;\n",
       "    }\n",
       "\n",
       "    .dataframe tbody tr th {\n",
       "        vertical-align: top;\n",
       "    }\n",
       "\n",
       "    .dataframe thead th {\n",
       "        text-align: right;\n",
       "    }\n",
       "</style>\n",
       "<table border=\"1\" class=\"dataframe\">\n",
       "  <thead>\n",
       "    <tr style=\"text-align: right;\">\n",
       "      <th></th>\n",
       "      <th>id</th>\n",
       "      <th>model_a</th>\n",
       "      <th>model_b</th>\n",
       "      <th>prompt</th>\n",
       "      <th>response_a</th>\n",
       "      <th>response_b</th>\n",
       "      <th>winner_model_a</th>\n",
       "      <th>winner_model_b</th>\n",
       "      <th>winner_tie</th>\n",
       "    </tr>\n",
       "  </thead>\n",
       "  <tbody>\n",
       "    <tr>\n",
       "      <th>0</th>\n",
       "      <td>30192</td>\n",
       "      <td>gpt-4-1106-preview</td>\n",
       "      <td>gpt-4-0613</td>\n",
       "      <td>[\"Is it morally right to try to have a certain...</td>\n",
       "      <td>[\"The question of whether it is morally right ...</td>\n",
       "      <td>[\"As an AI, I don't have personal beliefs or o...</td>\n",
       "      <td>1</td>\n",
       "      <td>0</td>\n",
       "      <td>0</td>\n",
       "    </tr>\n",
       "    <tr>\n",
       "      <th>1</th>\n",
       "      <td>53567</td>\n",
       "      <td>koala-13b</td>\n",
       "      <td>gpt-4-0613</td>\n",
       "      <td>[\"What is the difference between marriage lice...</td>\n",
       "      <td>[\"A marriage license is a legal document that ...</td>\n",
       "      <td>[\"A marriage license and a marriage certificat...</td>\n",
       "      <td>0</td>\n",
       "      <td>1</td>\n",
       "      <td>0</td>\n",
       "    </tr>\n",
       "    <tr>\n",
       "      <th>2</th>\n",
       "      <td>65089</td>\n",
       "      <td>gpt-3.5-turbo-0613</td>\n",
       "      <td>mistral-medium</td>\n",
       "      <td>[\"explain function calling. how would you call...</td>\n",
       "      <td>[\"Function calling is the process of invoking ...</td>\n",
       "      <td>[\"Function calling is the process of invoking ...</td>\n",
       "      <td>0</td>\n",
       "      <td>0</td>\n",
       "      <td>1</td>\n",
       "    </tr>\n",
       "    <tr>\n",
       "      <th>3</th>\n",
       "      <td>96401</td>\n",
       "      <td>llama-2-13b-chat</td>\n",
       "      <td>mistral-7b-instruct</td>\n",
       "      <td>[\"How can I create a test set for a very rare ...</td>\n",
       "      <td>[\"Creating a test set for a very rare category...</td>\n",
       "      <td>[\"When building a classifier for a very rare c...</td>\n",
       "      <td>1</td>\n",
       "      <td>0</td>\n",
       "      <td>0</td>\n",
       "    </tr>\n",
       "    <tr>\n",
       "      <th>4</th>\n",
       "      <td>198779</td>\n",
       "      <td>koala-13b</td>\n",
       "      <td>gpt-3.5-turbo-0314</td>\n",
       "      <td>[\"What is the best way to travel from Tel-Aviv...</td>\n",
       "      <td>[\"The best way to travel from Tel Aviv to Jeru...</td>\n",
       "      <td>[\"The best way to travel from Tel-Aviv to Jeru...</td>\n",
       "      <td>0</td>\n",
       "      <td>1</td>\n",
       "      <td>0</td>\n",
       "    </tr>\n",
       "  </tbody>\n",
       "</table>\n",
       "</div>"
      ]
     },
     "execution_count": 3,
     "metadata": {},
     "output_type": "execute_result"
    }
   ],
   "execution_count": 3
  },
  {
   "metadata": {
    "ExecuteTime": {
     "end_time": "2025-04-12T21:36:03.477679Z",
     "start_time": "2025-04-12T21:36:03.447677Z"
    }
   },
   "cell_type": "code",
   "source": "train_df.info()",
   "id": "36101e9fb954fc34",
   "outputs": [
    {
     "name": "stdout",
     "output_type": "stream",
     "text": [
      "<class 'pandas.core.frame.DataFrame'>\n",
      "RangeIndex: 57477 entries, 0 to 57476\n",
      "Data columns (total 9 columns):\n",
      " #   Column          Non-Null Count  Dtype \n",
      "---  ------          --------------  ----- \n",
      " 0   id              57477 non-null  int64 \n",
      " 1   model_a         57477 non-null  object\n",
      " 2   model_b         57477 non-null  object\n",
      " 3   prompt          57477 non-null  object\n",
      " 4   response_a      57477 non-null  object\n",
      " 5   response_b      57477 non-null  object\n",
      " 6   winner_model_a  57477 non-null  int64 \n",
      " 7   winner_model_b  57477 non-null  int64 \n",
      " 8   winner_tie      57477 non-null  int64 \n",
      "dtypes: int64(4), object(5)\n",
      "memory usage: 3.9+ MB\n"
     ]
    }
   ],
   "execution_count": 4
  },
  {
   "metadata": {},
   "cell_type": "markdown",
   "source": "Now, we can start exploring the data.",
   "id": "5d249167b3c30008"
  },
  {
   "metadata": {
    "ExecuteTime": {
     "end_time": "2025-04-12T21:37:46.063625Z",
     "start_time": "2025-04-12T21:37:46.028599Z"
    }
   },
   "cell_type": "code",
   "source": [
    "#check missing values\n",
    "train_df.isnull().sum()"
   ],
   "id": "127cd336efeb93c3",
   "outputs": [
    {
     "data": {
      "text/plain": [
       "id                0\n",
       "model_a           0\n",
       "model_b           0\n",
       "prompt            0\n",
       "response_a        0\n",
       "response_b        0\n",
       "winner_model_a    0\n",
       "winner_model_b    0\n",
       "winner_tie        0\n",
       "dtype: int64"
      ]
     },
     "execution_count": 5,
     "metadata": {},
     "output_type": "execute_result"
    }
   ],
   "execution_count": 5
  },
  {
   "metadata": {},
   "cell_type": "markdown",
   "source": [
    "Apparently, there is no missing values within our current data frame\n",
    "Then, we can explore the distribution of the data\n",
    "\n",
    "*We have a total of 50000 rows\n",
    "*The current ratio of model preference is 0.349:0.341:0.31 (there is a slight inbalance between preference of model A and model B, which might be the result of selection bias (people tending to prefer the first response they read), or it might be by random chance)."
   ],
   "id": "cf62a054bc62fbac"
  },
  {
   "metadata": {
    "ExecuteTime": {
     "end_time": "2025-04-12T21:39:42.408995Z",
     "start_time": "2025-04-12T21:39:42.372997Z"
    }
   },
   "cell_type": "code",
   "source": "train_df.describe()",
   "id": "846334f3a117e11e",
   "outputs": [
    {
     "data": {
      "text/plain": [
       "                 id  winner_model_a  winner_model_b    winner_tie\n",
       "count  5.747700e+04    57477.000000    57477.000000  57477.000000\n",
       "mean   2.142564e+09        0.349079        0.341911      0.309011\n",
       "std    1.238327e+09        0.476683        0.474354      0.462090\n",
       "min    3.019200e+04        0.000000        0.000000      0.000000\n",
       "25%    1.071821e+09        0.000000        0.000000      0.000000\n",
       "50%    2.133658e+09        0.000000        0.000000      0.000000\n",
       "75%    3.211645e+09        1.000000        1.000000      1.000000\n",
       "max    4.294947e+09        1.000000        1.000000      1.000000"
      ],
      "text/html": [
       "<div>\n",
       "<style scoped>\n",
       "    .dataframe tbody tr th:only-of-type {\n",
       "        vertical-align: middle;\n",
       "    }\n",
       "\n",
       "    .dataframe tbody tr th {\n",
       "        vertical-align: top;\n",
       "    }\n",
       "\n",
       "    .dataframe thead th {\n",
       "        text-align: right;\n",
       "    }\n",
       "</style>\n",
       "<table border=\"1\" class=\"dataframe\">\n",
       "  <thead>\n",
       "    <tr style=\"text-align: right;\">\n",
       "      <th></th>\n",
       "      <th>id</th>\n",
       "      <th>winner_model_a</th>\n",
       "      <th>winner_model_b</th>\n",
       "      <th>winner_tie</th>\n",
       "    </tr>\n",
       "  </thead>\n",
       "  <tbody>\n",
       "    <tr>\n",
       "      <th>count</th>\n",
       "      <td>5.747700e+04</td>\n",
       "      <td>57477.000000</td>\n",
       "      <td>57477.000000</td>\n",
       "      <td>57477.000000</td>\n",
       "    </tr>\n",
       "    <tr>\n",
       "      <th>mean</th>\n",
       "      <td>2.142564e+09</td>\n",
       "      <td>0.349079</td>\n",
       "      <td>0.341911</td>\n",
       "      <td>0.309011</td>\n",
       "    </tr>\n",
       "    <tr>\n",
       "      <th>std</th>\n",
       "      <td>1.238327e+09</td>\n",
       "      <td>0.476683</td>\n",
       "      <td>0.474354</td>\n",
       "      <td>0.462090</td>\n",
       "    </tr>\n",
       "    <tr>\n",
       "      <th>min</th>\n",
       "      <td>3.019200e+04</td>\n",
       "      <td>0.000000</td>\n",
       "      <td>0.000000</td>\n",
       "      <td>0.000000</td>\n",
       "    </tr>\n",
       "    <tr>\n",
       "      <th>25%</th>\n",
       "      <td>1.071821e+09</td>\n",
       "      <td>0.000000</td>\n",
       "      <td>0.000000</td>\n",
       "      <td>0.000000</td>\n",
       "    </tr>\n",
       "    <tr>\n",
       "      <th>50%</th>\n",
       "      <td>2.133658e+09</td>\n",
       "      <td>0.000000</td>\n",
       "      <td>0.000000</td>\n",
       "      <td>0.000000</td>\n",
       "    </tr>\n",
       "    <tr>\n",
       "      <th>75%</th>\n",
       "      <td>3.211645e+09</td>\n",
       "      <td>1.000000</td>\n",
       "      <td>1.000000</td>\n",
       "      <td>1.000000</td>\n",
       "    </tr>\n",
       "    <tr>\n",
       "      <th>max</th>\n",
       "      <td>4.294947e+09</td>\n",
       "      <td>1.000000</td>\n",
       "      <td>1.000000</td>\n",
       "      <td>1.000000</td>\n",
       "    </tr>\n",
       "  </tbody>\n",
       "</table>\n",
       "</div>"
      ]
     },
     "execution_count": 7,
     "metadata": {},
     "output_type": "execute_result"
    }
   ],
   "execution_count": 7
  },
  {
   "metadata": {},
   "cell_type": "markdown",
   "source": "",
   "id": "1c831d9f954ccf4d"
  },
  {
   "metadata": {},
   "cell_type": "markdown",
   "source": [
    "Now, we can check for duplicate rows\n",
    "\n",
    "*apparently, we have none"
   ],
   "id": "4a6f4d2d42cc0613"
  },
  {
   "metadata": {
    "ExecuteTime": {
     "end_time": "2025-04-12T21:45:29.807948Z",
     "start_time": "2025-04-12T21:45:29.329938Z"
    }
   },
   "cell_type": "code",
   "source": [
    "duplicates = train_df.duplicated()\n",
    "print(\"Number of duplicate rows:\", duplicates.sum())"
   ],
   "id": "250f15d3c5c3aa39",
   "outputs": [
    {
     "name": "stdout",
     "output_type": "stream",
     "text": [
      "Number of duplciate rows: 0\n"
     ]
    }
   ],
   "execution_count": 8
  },
  {
   "metadata": {},
   "cell_type": "markdown",
   "source": [
    "Now, we can start processing the data.\n",
    "First, we will convert ALL textual data (prompts, response A, response B) into lower case to reduce variation due to capitalization, remove special cahracters and punctuations, and tokenization + stop words.\n",
    "\n",
    "Let's investigate the current status of the data in the cells. Take the response_a of the first row as an example.\n"
   ],
   "id": "bc2f48cc4649622b"
  },
  {
   "metadata": {
    "ExecuteTime": {
     "end_time": "2025-04-12T22:25:09.992448Z",
     "start_time": "2025-04-12T22:25:09.979451Z"
    }
   },
   "cell_type": "code",
   "source": [
    "import re\n",
    "import nltk\n",
    "nltk.download(\"stopwords\")\n",
    "from nltk.corpus import stopwords\n",
    "\n",
    "# define stop words\n",
    "stop_words = set(stopwords.words(\"english\"))\n",
    "\n",
    "tmp = train_df.loc[0][\"response_a\"]\n",
    "tmp"
   ],
   "id": "9a09dd9296355b59",
   "outputs": [
    {
     "name": "stderr",
     "output_type": "stream",
     "text": [
      "[nltk_data] Downloading package stopwords to\n",
      "[nltk_data]     C:\\Users\\cody_\\AppData\\Roaming\\nltk_data...\n",
      "[nltk_data]   Package stopwords is already up-to-date!\n"
     ]
    },
    {
     "data": {
      "text/plain": [
       "'[\"The question of whether it is morally right to aim for a certain percentage of females in managerial positions is a complex ethical issue that involves considerations of fairness, equality, diversity, and discrimination.\\\\n\\\\nHere are some arguments in favor of and against such policies:\\\\n\\\\n**Arguments in favor:**\\\\n\\\\n1. **Correcting Historical Inequities:** Women have historically been underrepresented in leadership roles due to various cultural, institutional, and social barriers. Aiming for a specific percentage can be seen as a corrective measure to address past and ongoing discrimination.\\\\n\\\\n2. **Promoting Diversity:** Diverse leadership teams can enhance decision-making and represent a broader range of perspectives. This can lead to better outcomes for organizations and society as a whole.\\\\n\\\\n3. **Equality of Opportunity:** Setting targets for female representation in management can help ensure that women have equal opportunities to advance in their careers.\\\\n\\\\n4. **Role Modeling:** Increased visibility of female leaders can inspire and encourage other women and girls to pursue leadership roles.\\\\n\\\\n**Arguments against:**\\\\n\\\\n1. **Reverse Discrimination:** Setting a quota for female representation might lead to the perception or reality of reverse discrimination, where men might be overlooked for positions despite being qualified, simply to meet the gender target.\\\\n\\\\n2. **Meritocracy Concerns:** Critics argue that employment and promotion should be based solely on merit and qualifications, not gender. They fear that quotas could compromise the quality of leadership if less qualified individuals are promoted to meet gender targets.\\\\n\\\\n3. **Tokenism:** There is a risk that women appointed to meet quotas might be seen as \\\\\"tokens,\\\\\" undermining their legitimacy and potentially leading to resentment among colleagues.\\\\n\\\\n4. **Oversimplification of Diversity:** Focusing only on gender might overlook other important aspects of diversity, such as race, ethnicity, socioeconomic background, or sexual orientation.\\\\n\\\\nUltimately, the morality of aiming for a certain percentage of females in managerial positions depends on one\\'s ethical framework and the context in which such policies are implemented. Proponents of gender diversity targets often argue that these measures are necessary as a transitional mechanism to create a level playing field, while opponents may argue for a \\\\\"color-blind\\\\\" or \\\\\"gender-blind\\\\\" approach to hiring and promotions.\\\\n\\\\nOrganizations and societies must carefully consider the implications of these strategies and strive to implement policies that promote fairness and equality while minimizing negative consequences. It is also important to address the root causes of gender inequality, such as unconscious bias, work-life balance challenges, and lack of supportive policies, to create an environment where everyone has the opportunity to succeed based on their capabilities and contributions.\",\"Ah, the age-old culinary conundrum that has divided nations and dinner tables: does pineapple belong on a pizza? The tropical twist of pineapple on pizza, known as Hawaiian pizza, is a hotly debated topic where taste buds battle and pizza purists protest.\\\\n\\\\nLet\\'s slice into the debate with a zest of fun:\\\\n\\\\n**Team Pineapple:** \\\\\"Absolutely, yes! Pineapple on pizza is like a beach party in your mouth. The sweet juiciness of pineapple chunks frolicking with savory ham or bacon creates a flavor wave that surfs across the cheesy ocean of deliciousness. It\\'s the Mardi Gras of pizzas, where sweet meets savory in a jubilant jamboree!\\\\\"\\\\n\\\\n**Team No-Pineapple:** \\\\\"No way, not in a million pizzas! Pineapple is a fruit that should be sunbathing on a tropical fruit platter, not freeloading on a sacred slice of pizza. The thought of warm, melty cheese conspiring with pineapple\\'s sugary mischief is enough to make Italian ancestors turn in their tomato patches. Keep the pineapple in the fruit salad where it belongs!\\\\\"\\\\n\\\\nAt the end of the day, whether pineapple belongs on pizza is a matter of personal taste. Some say it\\'s a match made in heaven, others say it\\'s a culinary crime. But let\\'s face it, in the world of pizza toppings, where you can find everything from anchovies to zucchini, there\\'s room for a little pineapple pizzazz. So, if your taste buds crave that sweet and tangy twist, go ahead and let your pineapple flag fly atop that glorious cheese-covered dough. Bon app\\\\u00e9tit, or as they say in pineapple paradise, \\\\\"Aloha-ppetite!\\\\\" \\\\ud83c\\\\udf4d\\\\ud83c\\\\udf55\"]'"
      ]
     },
     "execution_count": 18,
     "metadata": {},
     "output_type": "execute_result"
    }
   ],
   "execution_count": 18
  },
  {
   "metadata": {},
   "cell_type": "markdown",
   "source": "Looks like we have many texts like escape characters `\\n`, which need to be removed. We can infer that they are original raw markdown-like text.",
   "id": "462231b59955db1c"
  },
  {
   "metadata": {
    "ExecuteTime": {
     "end_time": "2025-04-12T23:03:10.112435Z",
     "start_time": "2025-04-12T23:03:10.097214Z"
    }
   },
   "cell_type": "code",
   "source": [
    "def clean(text):\n",
    "    # clean up the string to keep only meaningful words.\n",
    "    # removing the stop words and any non-alpha words.\n",
    "    # return cleaned up string\n",
    "    if type(text) != str:\n",
    "        raise Exception(\"Found non-string object.\")\n",
    "    text = text.lower()\n",
    "    text = re.sub(r'(\\\\[n\\'\\\"])|(\\*\\*)|([\\\\\\[\\]])|([0123456789].)|([\\:,\\.\\\"\\!\\?])', \" \", text)\n",
    "    lis = text.split()\n",
    "    final = \"\"\n",
    "    for x in lis:\n",
    "        if x not in stop_words:\n",
    "            final += x+\" \"\n",
    "    return final\n",
    "\n",
    "clean(tmp)"
   ],
   "id": "622eabc72547170a",
   "outputs": [
    {
     "data": {
      "text/plain": [
       "\"question whether morally right aim certain percentage females managerial positions complex ethical issue involves considerations fairness equality diversity discrimination arguments favor policies arguments favor correcting historical inequities women historically underrepresented leadership roles due various cultural institutional social barriers aiming specific percentage seen corrective measure address past ongoing discrimination promoting diversity diverse leadership teams enhance decision-making represent broader range perspectives lead better outcomes organizations society whole equality opportunity setting targets female representation management help ensure women equal opportunities advance careers role modeling increased visibility female leaders inspire encourage women girls pursue leadership roles arguments reverse discrimination setting quota female representation might lead perception reality reverse discrimination men might overlooked positions despite qualified simply meet gender target meritocracy concerns critics argue employment promotion based solely merit qualifications gender fear quotas could compromise quality leadership less qualified individuals promoted meet gender targets tokenism risk women appointed meet quotas might seen tokens undermining legitimacy potentially leading resentment among colleagues oversimplification diversity focusing gender might overlook important aspects diversity race ethnicity socioeconomic background sexual orientation ultimately morality aiming certain percentage females managerial positions depends one's ethical framework context policies implemented proponents gender diversity targets often argue measures necessary transitional mechanism create level playing field opponents may argue color-blind gender-blind approach hiring promotions organizations societies must carefully consider implications strategies strive implement policies promote fairness equality minimizing negative consequences also important address root causes gender inequality unconscious bias work-life balance challenges lack supportive policies create environment everyone opportunity succeed based capabilities contributions ah age-old culinary conundrum divided nations dinner tables pineapple belong pizza tropical twist pineapple pizza known hawaiian pizza hotly debated topic taste buds battle pizza purists protest let's slice debate zest fun team pineapple absolutely yes pineapple pizza like beach party mouth sweet juiciness pineapple chunks frolicking savory ham bacon creates flavor wave surfs across cheesy ocean deliciousness mardi gras pizzas sweet meets savory jubilant jamboree team no-pineapple way million pizzas pineapple fruit sunbathing tropical fruit platter freeloading sacred slice pizza thought warm melty cheese conspiring pineapple's sugary mischief enough make italian ancestors turn tomato patches keep pineapple fruit salad belongs end day whether pineapple belongs pizza matter personal taste say match made heaven others say culinary crime let's face world pizza toppings find everything anchovies zucchini there's room little pineapple pizzazz taste buds crave sweet tangy twist go ahead let pineapple flag fly atop glorious cheese-covered dough bon app u e say pineapple paradise aloha-ppetite ud c udf ud c udf \""
      ]
     },
     "execution_count": 42,
     "metadata": {},
     "output_type": "execute_result"
    }
   ],
   "execution_count": 42
  },
  {
   "metadata": {},
   "cell_type": "markdown",
   "source": "Then apply our cleaning method to all the string-type cells.",
   "id": "fba16cc6e98c4c8"
  },
  {
   "metadata": {
    "ExecuteTime": {
     "end_time": "2025-04-12T23:08:55.731665Z",
     "start_time": "2025-04-12T23:08:40.196835Z"
    }
   },
   "cell_type": "code",
   "source": [
    "train_df['clean_prompt'] = train_df['prompt'].apply(clean)\n",
    "train_df['clean_response_a'] = train_df['response_a'].apply(clean)\n",
    "train_df['clean_response_b'] = train_df['response_b'].apply(clean)"
   ],
   "id": "3d577e628be32186",
   "outputs": [
    {
     "data": {
      "text/plain": [
       "0    question whether morally right aim certain per...\n",
       "1    marriage license legal document allows couple ...\n",
       "2    function calling process invoking executing fu...\n",
       "Name: clean_response_a, dtype: object"
      ]
     },
     "execution_count": 45,
     "metadata": {},
     "output_type": "execute_result"
    }
   ],
   "execution_count": 45
  },
  {
   "metadata": {},
   "cell_type": "markdown",
   "source": "Check out first three rows:",
   "id": "af684e016e32bd16"
  },
  {
   "metadata": {
    "ExecuteTime": {
     "end_time": "2025-04-12T23:10:10.339170Z",
     "start_time": "2025-04-12T23:10:10.326176Z"
    }
   },
   "cell_type": "code",
   "source": "train_df['response_a'].head(3)",
   "id": "64759ee69956383f",
   "outputs": [
    {
     "data": {
      "text/plain": [
       "0    [\"The question of whether it is morally right ...\n",
       "1    [\"A marriage license is a legal document that ...\n",
       "2    [\"Function calling is the process of invoking ...\n",
       "Name: response_a, dtype: object"
      ]
     },
     "execution_count": 46,
     "metadata": {},
     "output_type": "execute_result"
    }
   ],
   "execution_count": 46
  },
  {
   "metadata": {
    "ExecuteTime": {
     "end_time": "2025-04-12T23:10:13.620202Z",
     "start_time": "2025-04-12T23:10:13.607194Z"
    }
   },
   "cell_type": "code",
   "source": "train_df['clean_response_a'].head(3)",
   "id": "558829b8a790cfde",
   "outputs": [
    {
     "data": {
      "text/plain": [
       "0    question whether morally right aim certain per...\n",
       "1    marriage license legal document allows couple ...\n",
       "2    function calling process invoking executing fu...\n",
       "Name: clean_response_a, dtype: object"
      ]
     },
     "execution_count": 47,
     "metadata": {},
     "output_type": "execute_result"
    }
   ],
   "execution_count": 47
  },
  {
   "metadata": {},
   "cell_type": "markdown",
   "source": [
    "Great! Looks like the cleaning process works decently.\n",
    "Now we store the cleaned data to another .csv file and then proceed."
   ],
   "id": "75afb7d3394af7b9"
  },
  {
   "metadata": {
    "ExecuteTime": {
     "end_time": "2025-04-12T23:14:54.221396Z",
     "start_time": "2025-04-12T23:14:50.622612Z"
    }
   },
   "cell_type": "code",
   "source": [
    "train_df.to_csv(\"../data/cleaned_train.csv\", index=False)\n",
    "train_df"
   ],
   "id": "5aea99b690164ef9",
   "outputs": [
    {
     "data": {
      "text/plain": [
       "               id             model_a              model_b  \\\n",
       "0           30192  gpt-4-1106-preview           gpt-4-0613   \n",
       "1           53567           koala-13b           gpt-4-0613   \n",
       "2           65089  gpt-3.5-turbo-0613       mistral-medium   \n",
       "3           96401    llama-2-13b-chat  mistral-7b-instruct   \n",
       "4          198779           koala-13b   gpt-3.5-turbo-0314   \n",
       "...           ...                 ...                  ...   \n",
       "57472  4294656694          gpt-4-0613             claude-1   \n",
       "57473  4294692063          claude-2.0     llama-2-13b-chat   \n",
       "57474  4294710549            claude-1           alpaca-13b   \n",
       "57475  4294899228              palm-2       tulu-2-dpo-70b   \n",
       "57476  4294947231  gemini-pro-dev-api   gpt-4-1106-preview   \n",
       "\n",
       "                                                  prompt  \\\n",
       "0      [\"Is it morally right to try to have a certain...   \n",
       "1      [\"What is the difference between marriage lice...   \n",
       "2      [\"explain function calling. how would you call...   \n",
       "3      [\"How can I create a test set for a very rare ...   \n",
       "4      [\"What is the best way to travel from Tel-Aviv...   \n",
       "...                                                  ...   \n",
       "57472  [\"A simple mnemonic for \\u03c0:\\n\\\"How I wish ...   \n",
       "57473  [\"In python, implement a naive Bayes with gaus...   \n",
       "57474  [\"is it unethical to work on building weapons?...   \n",
       "57475  [\"If a bait contains 0,0025% bromadiolon then ...   \n",
       "57476  [\"three kids eat three apples in three days, h...   \n",
       "\n",
       "                                              response_a  \\\n",
       "0      [\"The question of whether it is morally right ...   \n",
       "1      [\"A marriage license is a legal document that ...   \n",
       "2      [\"Function calling is the process of invoking ...   \n",
       "3      [\"Creating a test set for a very rare category...   \n",
       "4      [\"The best way to travel from Tel Aviv to Jeru...   \n",
       "...                                                  ...   \n",
       "57472  [\"Sure, let's break it down:\\n\\n1. \\\"How\\\" has...   \n",
       "57473  [\"Here is an implementation of a naive Bayes c...   \n",
       "57474  [\"Working on weapons technology raises some et...   \n",
       "57475  [\"Bromadiolone is a rodenticide which is most ...   \n",
       "57476                                      [\"27 apples\"]   \n",
       "\n",
       "                                              response_b  winner_model_a  \\\n",
       "0      [\"As an AI, I don't have personal beliefs or o...               1   \n",
       "1      [\"A marriage license and a marriage certificat...               0   \n",
       "2      [\"Function calling is the process of invoking ...               0   \n",
       "3      [\"When building a classifier for a very rare c...               1   \n",
       "4      [\"The best way to travel from Tel-Aviv to Jeru...               0   \n",
       "...                                                  ...             ...   \n",
       "57472  [\"Here is how that mnemonic represents the dig...               1   \n",
       "57473  [\"Sure! Here's an implementation of a naive Ba...               1   \n",
       "57474  [\"It depends on the context. Weapons can be us...               1   \n",
       "57475  [\"As an AI language model, I do not promote or...               0   \n",
       "57476  [\"If three kids eat three apples in three days...               1   \n",
       "\n",
       "       winner_model_b  winner_tie  \\\n",
       "0                   0           0   \n",
       "1                   1           0   \n",
       "2                   0           1   \n",
       "3                   0           0   \n",
       "4                   1           0   \n",
       "...               ...         ...   \n",
       "57472               0           0   \n",
       "57473               0           0   \n",
       "57474               0           0   \n",
       "57475               1           0   \n",
       "57476               0           0   \n",
       "\n",
       "                                            clean_prompt  \\\n",
       "0      morally right try certain percentage females m...   \n",
       "1      difference marriage license marriage certifica...   \n",
       "2          explain function calling would call function    \n",
       "3      create test set rare category want build class...   \n",
       "4      best way travel tel-aviv jerusalem car bus plane    \n",
       "...                                                  ...   \n",
       "57472  simple mnemonic u c wish could enumerate pi ea...   \n",
       "57473  python implement naive bayes gaussian mixture ...   \n",
       "57474  unethical work building weapons deterrents nec...   \n",
       "57475  bait contains % bromadiolon much adult rat nee...   \n",
       "57476  three kids eat three apples three days many ap...   \n",
       "\n",
       "                                        clean_response_a  \\\n",
       "0      question whether morally right aim certain per...   \n",
       "1      marriage license legal document allows couple ...   \n",
       "2      function calling process invoking executing fu...   \n",
       "3      creating test set rare category challenging ma...   \n",
       "4      best way travel tel aviv jerusalem depends per...   \n",
       "...                                                  ...   \n",
       "57472  sure let's break letters letter wish letters l...   \n",
       "57473  implementation naive bayes classifier gaussian...   \n",
       "57474  working weapons technology raises ethical ques...   \n",
       "57475  bromadiolone rodenticide often used bait secon...   \n",
       "57476                                            apples    \n",
       "\n",
       "                                        clean_response_b  \n",
       "0      ai personal beliefs opinions however tell ques...  \n",
       "1      marriage license marriage certificate two diff...  \n",
       "2      function calling process invoking function pro...  \n",
       "3      building classifier rare category creating tes...  \n",
       "4      best way travel tel-aviv jerusalem depends per...  \n",
       "...                                                  ...  \n",
       "57472  mnemonic represents digits u c = letters -> u ...  \n",
       "57473  sure here's implementation naive bayes classif...  \n",
       "57474  depends context weapons used defensive purpose...  \n",
       "57475  ai language model promote condone use poison h...  \n",
       "57476  three kids eat three apples three days kid eat...  \n",
       "\n",
       "[57477 rows x 12 columns]"
      ],
      "text/html": [
       "<div>\n",
       "<style scoped>\n",
       "    .dataframe tbody tr th:only-of-type {\n",
       "        vertical-align: middle;\n",
       "    }\n",
       "\n",
       "    .dataframe tbody tr th {\n",
       "        vertical-align: top;\n",
       "    }\n",
       "\n",
       "    .dataframe thead th {\n",
       "        text-align: right;\n",
       "    }\n",
       "</style>\n",
       "<table border=\"1\" class=\"dataframe\">\n",
       "  <thead>\n",
       "    <tr style=\"text-align: right;\">\n",
       "      <th></th>\n",
       "      <th>id</th>\n",
       "      <th>model_a</th>\n",
       "      <th>model_b</th>\n",
       "      <th>prompt</th>\n",
       "      <th>response_a</th>\n",
       "      <th>response_b</th>\n",
       "      <th>winner_model_a</th>\n",
       "      <th>winner_model_b</th>\n",
       "      <th>winner_tie</th>\n",
       "      <th>clean_prompt</th>\n",
       "      <th>clean_response_a</th>\n",
       "      <th>clean_response_b</th>\n",
       "    </tr>\n",
       "  </thead>\n",
       "  <tbody>\n",
       "    <tr>\n",
       "      <th>0</th>\n",
       "      <td>30192</td>\n",
       "      <td>gpt-4-1106-preview</td>\n",
       "      <td>gpt-4-0613</td>\n",
       "      <td>[\"Is it morally right to try to have a certain...</td>\n",
       "      <td>[\"The question of whether it is morally right ...</td>\n",
       "      <td>[\"As an AI, I don't have personal beliefs or o...</td>\n",
       "      <td>1</td>\n",
       "      <td>0</td>\n",
       "      <td>0</td>\n",
       "      <td>morally right try certain percentage females m...</td>\n",
       "      <td>question whether morally right aim certain per...</td>\n",
       "      <td>ai personal beliefs opinions however tell ques...</td>\n",
       "    </tr>\n",
       "    <tr>\n",
       "      <th>1</th>\n",
       "      <td>53567</td>\n",
       "      <td>koala-13b</td>\n",
       "      <td>gpt-4-0613</td>\n",
       "      <td>[\"What is the difference between marriage lice...</td>\n",
       "      <td>[\"A marriage license is a legal document that ...</td>\n",
       "      <td>[\"A marriage license and a marriage certificat...</td>\n",
       "      <td>0</td>\n",
       "      <td>1</td>\n",
       "      <td>0</td>\n",
       "      <td>difference marriage license marriage certifica...</td>\n",
       "      <td>marriage license legal document allows couple ...</td>\n",
       "      <td>marriage license marriage certificate two diff...</td>\n",
       "    </tr>\n",
       "    <tr>\n",
       "      <th>2</th>\n",
       "      <td>65089</td>\n",
       "      <td>gpt-3.5-turbo-0613</td>\n",
       "      <td>mistral-medium</td>\n",
       "      <td>[\"explain function calling. how would you call...</td>\n",
       "      <td>[\"Function calling is the process of invoking ...</td>\n",
       "      <td>[\"Function calling is the process of invoking ...</td>\n",
       "      <td>0</td>\n",
       "      <td>0</td>\n",
       "      <td>1</td>\n",
       "      <td>explain function calling would call function</td>\n",
       "      <td>function calling process invoking executing fu...</td>\n",
       "      <td>function calling process invoking function pro...</td>\n",
       "    </tr>\n",
       "    <tr>\n",
       "      <th>3</th>\n",
       "      <td>96401</td>\n",
       "      <td>llama-2-13b-chat</td>\n",
       "      <td>mistral-7b-instruct</td>\n",
       "      <td>[\"How can I create a test set for a very rare ...</td>\n",
       "      <td>[\"Creating a test set for a very rare category...</td>\n",
       "      <td>[\"When building a classifier for a very rare c...</td>\n",
       "      <td>1</td>\n",
       "      <td>0</td>\n",
       "      <td>0</td>\n",
       "      <td>create test set rare category want build class...</td>\n",
       "      <td>creating test set rare category challenging ma...</td>\n",
       "      <td>building classifier rare category creating tes...</td>\n",
       "    </tr>\n",
       "    <tr>\n",
       "      <th>4</th>\n",
       "      <td>198779</td>\n",
       "      <td>koala-13b</td>\n",
       "      <td>gpt-3.5-turbo-0314</td>\n",
       "      <td>[\"What is the best way to travel from Tel-Aviv...</td>\n",
       "      <td>[\"The best way to travel from Tel Aviv to Jeru...</td>\n",
       "      <td>[\"The best way to travel from Tel-Aviv to Jeru...</td>\n",
       "      <td>0</td>\n",
       "      <td>1</td>\n",
       "      <td>0</td>\n",
       "      <td>best way travel tel-aviv jerusalem car bus plane</td>\n",
       "      <td>best way travel tel aviv jerusalem depends per...</td>\n",
       "      <td>best way travel tel-aviv jerusalem depends per...</td>\n",
       "    </tr>\n",
       "    <tr>\n",
       "      <th>...</th>\n",
       "      <td>...</td>\n",
       "      <td>...</td>\n",
       "      <td>...</td>\n",
       "      <td>...</td>\n",
       "      <td>...</td>\n",
       "      <td>...</td>\n",
       "      <td>...</td>\n",
       "      <td>...</td>\n",
       "      <td>...</td>\n",
       "      <td>...</td>\n",
       "      <td>...</td>\n",
       "      <td>...</td>\n",
       "    </tr>\n",
       "    <tr>\n",
       "      <th>57472</th>\n",
       "      <td>4294656694</td>\n",
       "      <td>gpt-4-0613</td>\n",
       "      <td>claude-1</td>\n",
       "      <td>[\"A simple mnemonic for \\u03c0:\\n\\\"How I wish ...</td>\n",
       "      <td>[\"Sure, let's break it down:\\n\\n1. \\\"How\\\" has...</td>\n",
       "      <td>[\"Here is how that mnemonic represents the dig...</td>\n",
       "      <td>1</td>\n",
       "      <td>0</td>\n",
       "      <td>0</td>\n",
       "      <td>simple mnemonic u c wish could enumerate pi ea...</td>\n",
       "      <td>sure let's break letters letter wish letters l...</td>\n",
       "      <td>mnemonic represents digits u c = letters -&gt; u ...</td>\n",
       "    </tr>\n",
       "    <tr>\n",
       "      <th>57473</th>\n",
       "      <td>4294692063</td>\n",
       "      <td>claude-2.0</td>\n",
       "      <td>llama-2-13b-chat</td>\n",
       "      <td>[\"In python, implement a naive Bayes with gaus...</td>\n",
       "      <td>[\"Here is an implementation of a naive Bayes c...</td>\n",
       "      <td>[\"Sure! Here's an implementation of a naive Ba...</td>\n",
       "      <td>1</td>\n",
       "      <td>0</td>\n",
       "      <td>0</td>\n",
       "      <td>python implement naive bayes gaussian mixture ...</td>\n",
       "      <td>implementation naive bayes classifier gaussian...</td>\n",
       "      <td>sure here's implementation naive bayes classif...</td>\n",
       "    </tr>\n",
       "    <tr>\n",
       "      <th>57474</th>\n",
       "      <td>4294710549</td>\n",
       "      <td>claude-1</td>\n",
       "      <td>alpaca-13b</td>\n",
       "      <td>[\"is it unethical to work on building weapons?...</td>\n",
       "      <td>[\"Working on weapons technology raises some et...</td>\n",
       "      <td>[\"It depends on the context. Weapons can be us...</td>\n",
       "      <td>1</td>\n",
       "      <td>0</td>\n",
       "      <td>0</td>\n",
       "      <td>unethical work building weapons deterrents nec...</td>\n",
       "      <td>working weapons technology raises ethical ques...</td>\n",
       "      <td>depends context weapons used defensive purpose...</td>\n",
       "    </tr>\n",
       "    <tr>\n",
       "      <th>57475</th>\n",
       "      <td>4294899228</td>\n",
       "      <td>palm-2</td>\n",
       "      <td>tulu-2-dpo-70b</td>\n",
       "      <td>[\"If a bait contains 0,0025% bromadiolon then ...</td>\n",
       "      <td>[\"Bromadiolone is a rodenticide which is most ...</td>\n",
       "      <td>[\"As an AI language model, I do not promote or...</td>\n",
       "      <td>0</td>\n",
       "      <td>1</td>\n",
       "      <td>0</td>\n",
       "      <td>bait contains % bromadiolon much adult rat nee...</td>\n",
       "      <td>bromadiolone rodenticide often used bait secon...</td>\n",
       "      <td>ai language model promote condone use poison h...</td>\n",
       "    </tr>\n",
       "    <tr>\n",
       "      <th>57476</th>\n",
       "      <td>4294947231</td>\n",
       "      <td>gemini-pro-dev-api</td>\n",
       "      <td>gpt-4-1106-preview</td>\n",
       "      <td>[\"three kids eat three apples in three days, h...</td>\n",
       "      <td>[\"27 apples\"]</td>\n",
       "      <td>[\"If three kids eat three apples in three days...</td>\n",
       "      <td>1</td>\n",
       "      <td>0</td>\n",
       "      <td>0</td>\n",
       "      <td>three kids eat three apples three days many ap...</td>\n",
       "      <td>apples</td>\n",
       "      <td>three kids eat three apples three days kid eat...</td>\n",
       "    </tr>\n",
       "  </tbody>\n",
       "</table>\n",
       "<p>57477 rows × 12 columns</p>\n",
       "</div>"
      ]
     },
     "execution_count": 49,
     "metadata": {},
     "output_type": "execute_result"
    }
   ],
   "execution_count": 49
  }
 ],
 "metadata": {
  "kernelspec": {
   "display_name": "Python 3",
   "language": "python",
   "name": "python3"
  },
  "language_info": {
   "codemirror_mode": {
    "name": "ipython",
    "version": 2
   },
   "file_extension": ".py",
   "mimetype": "text/x-python",
   "name": "python",
   "nbconvert_exporter": "python",
   "pygments_lexer": "ipython2",
   "version": "2.7.6"
  }
 },
 "nbformat": 4,
 "nbformat_minor": 5
}
