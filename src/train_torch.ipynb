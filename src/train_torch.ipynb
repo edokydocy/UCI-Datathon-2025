{
 "cells": [
  {
   "metadata": {},
   "cell_type": "markdown",
   "source": "# Try out using pytorch",
   "id": "70d1983ea1ad2a21"
  },
  {
   "metadata": {
    "ExecuteTime": {
     "end_time": "2025-04-13T11:50:49.278542Z",
     "start_time": "2025-04-13T11:50:46.799504Z"
    }
   },
   "cell_type": "code",
   "source": [
    "import pandas as pd\n",
    "df = pd.read_csv(\"../data/processed_data.csv\")\n",
    "# The set of all metrics available.\n",
    "all_met = ['clean_prompt_length','clean_response_a_length','clean_response_b_length','prompt_length','response_a_length','response_b_length','length_diff','prompt_sentiment','response_a_sentiment','response_b_sentiment','response_a_readability','response_b_readability','readability_diff']\n",
    "len(all_met)\n",
    "def get_lab(row):\n",
    "    if row['winner_model_a'] == 1:\n",
    "        return 0\n",
    "    elif row['winner_model_b'] == 1:\n",
    "        return 1\n",
    "    else:\n",
    "        return 2\n",
    "\n",
    "# Apply them to the dataframe\n",
    "df['label'] = df.apply(get_lab, axis=1)"
   ],
   "id": "2c09a3f3f9f12444",
   "outputs": [],
   "execution_count": 21
  },
  {
   "metadata": {
    "ExecuteTime": {
     "end_time": "2025-04-13T11:50:49.293542Z",
     "start_time": "2025-04-13T11:50:49.283542Z"
    }
   },
   "cell_type": "code",
   "source": [
    "import torch\n",
    "import torch.nn as nn\n",
    "import torch.optim as optim\n",
    "from sklearn.preprocessing import StandardScaler\n",
    "from sklearn.model_selection import train_test_split\n",
    "from sklearn.metrics import classification_report\n",
    "import itertools\n",
    "\n"
   ],
   "id": "1ce43edee7a83006",
   "outputs": [],
   "execution_count": 22
  },
  {
   "metadata": {
    "ExecuteTime": {
     "end_time": "2025-04-13T11:50:59.494533Z",
     "start_time": "2025-04-13T11:50:49.309542Z"
    }
   },
   "cell_type": "code",
   "source": [
    "\n",
    "\n",
    "class MLPClassifier(nn.Module):\n",
    "    def __init__(self, input_dim, hidden_dim, output_dim):\n",
    "        super().__init__()\n",
    "        self.model = nn.Sequential(\n",
    "            nn.Linear(input_dim, hidden_dim),\n",
    "            nn.ReLU(),\n",
    "            nn.Dropout(0.3),\n",
    "            nn.Linear(hidden_dim, output_dim)\n",
    "        )\n",
    "\n",
    "    def forward(self, x):\n",
    "        return self.model(x)\n",
    "\n",
    "def torch_eval(feat):\n",
    "    X = df[feat].to_numpy()\n",
    "    y = df['label'].to_numpy()\n",
    "    X_train, X_test, y_train, y_test = train_test_split(\n",
    "        X, y, test_size=0.2, stratify=y, random_state=42\n",
    "    )\n",
    "\n",
    "    scaler = StandardScaler()\n",
    "    X_train_scaled = scaler.fit_transform(X_train)\n",
    "    X_test_scaled = scaler.transform(X_test)\n",
    "\n",
    "    # Convert to tensors\n",
    "    X_train_tensor = torch.tensor(X_train_scaled, dtype=torch.float32)\n",
    "    y_train_tensor = torch.tensor(y_train, dtype=torch.long)\n",
    "\n",
    "    X_test_tensor = torch.tensor(X_test_scaled, dtype=torch.float32)\n",
    "    y_test_tensor = torch.tensor(y_test, dtype=torch.long)\n",
    "\n",
    "    device = torch.device(\"cuda\")\n",
    "    model = MLPClassifier(input_dim=len(feat), hidden_dim=64, output_dim=3).to(device)\n",
    "\n",
    "    # train\n",
    "    criterion = nn.CrossEntropyLoss()\n",
    "    optimizer = optim.Adam(model.parameters(), lr=1e-3)\n",
    "\n",
    "    num_epochs = 5\n",
    "    batch_size = 64\n",
    "\n",
    "    for epoch in range(num_epochs):\n",
    "        model.train()\n",
    "        permutation = torch.randperm(X_train_tensor.size(0))\n",
    "\n",
    "        for i in range(0, X_train_tensor.size(0), batch_size):\n",
    "            indices = permutation[i:i+batch_size]\n",
    "            batch_X = X_train_tensor[indices].to(device)\n",
    "            batch_y = y_train_tensor[indices].to(device)\n",
    "\n",
    "            optimizer.zero_grad()\n",
    "            outputs = model(batch_X)\n",
    "            loss = criterion(outputs, batch_y)\n",
    "            loss.backward()\n",
    "            optimizer.step()\n",
    "\n",
    "        print(f\"Epoch {epoch+1}/{num_epochs}, Loss: {loss.item():.4f}\")\n",
    "\n",
    "    model.eval()\n",
    "    with torch.no_grad():\n",
    "        outputs = model(X_test_tensor.to(device))\n",
    "        predictions = torch.argmax(outputs, dim=1).cpu()\n",
    "\n",
    "    report = classification_report(y_test, predictions, output_dict=True)\n",
    "    return report['accuracy']\n",
    "\n",
    "def all_sub(lis):\n",
    "    yield from itertools.chain.from_iterable(itertools.combinations(lis, r) for r in range(len(lis)+1))\n",
    "\n",
    "maxe = 0\n",
    "bst_lis = []\n",
    "for s in all_sub(all_met):\n",
    "    if len(s) == 0:\n",
    "        continue\n",
    "    if \"length_diff\" not in s:\n",
    "        continue\n",
    "    if len(s) < 7:\n",
    "        continue\n",
    "    print(\"Now feat: \", s)\n",
    "    ans = torch_eval(list(s))\n",
    "    if ans > maxe:\n",
    "        maxe = ans\n",
    "        bst_lis = s\n",
    "    print(ans)\n",
    "    print(\"Current max: \", maxe, bst_lis)\n"
   ],
   "id": "5f06a4891dc99e22",
   "outputs": [
    {
     "name": "stdout",
     "output_type": "stream",
     "text": [
      "Now feat:  ('clean_prompt_length', 'clean_response_a_length', 'clean_response_b_length', 'prompt_length', 'response_a_length', 'response_b_length', 'length_diff')\n",
      "Epoch 1/5, Loss: 1.1304\n",
      "Epoch 2/5, Loss: 1.0189\n",
      "Epoch 3/5, Loss: 1.1269\n",
      "Epoch 4/5, Loss: 1.0998\n",
      "Epoch 5/5, Loss: 1.0587\n",
      "0.447633959638135\n",
      "Current max:  0.447633959638135 ('clean_prompt_length', 'clean_response_a_length', 'clean_response_b_length', 'prompt_length', 'response_a_length', 'response_b_length', 'length_diff')\n",
      "Now feat:  ('clean_prompt_length', 'clean_response_a_length', 'clean_response_b_length', 'prompt_length', 'response_a_length', 'length_diff', 'prompt_sentiment')\n",
      "Epoch 1/5, Loss: 1.1121\n"
     ]
    },
    {
     "ename": "KeyboardInterrupt",
     "evalue": "",
     "output_type": "error",
     "traceback": [
      "\u001B[1;31m---------------------------------------------------------------------------\u001B[0m",
      "\u001B[1;31mKeyboardInterrupt\u001B[0m                         Traceback (most recent call last)",
      "Cell \u001B[1;32mIn[23], line 80\u001B[0m\n\u001B[0;32m     78\u001B[0m     \u001B[38;5;28;01mcontinue\u001B[39;00m\n\u001B[0;32m     79\u001B[0m \u001B[38;5;28mprint\u001B[39m(\u001B[38;5;124m\"\u001B[39m\u001B[38;5;124mNow feat: \u001B[39m\u001B[38;5;124m\"\u001B[39m, s)\n\u001B[1;32m---> 80\u001B[0m ans \u001B[38;5;241m=\u001B[39m \u001B[43mtorch_eval\u001B[49m\u001B[43m(\u001B[49m\u001B[38;5;28;43mlist\u001B[39;49m\u001B[43m(\u001B[49m\u001B[43ms\u001B[49m\u001B[43m)\u001B[49m\u001B[43m)\u001B[49m\n\u001B[0;32m     81\u001B[0m \u001B[38;5;28;01mif\u001B[39;00m ans \u001B[38;5;241m>\u001B[39m maxe:\n\u001B[0;32m     82\u001B[0m     maxe \u001B[38;5;241m=\u001B[39m ans\n",
      "Cell \u001B[1;32mIn[23], line 48\u001B[0m, in \u001B[0;36mtorch_eval\u001B[1;34m(feat)\u001B[0m\n\u001B[0;32m     46\u001B[0m \u001B[38;5;28;01mfor\u001B[39;00m i \u001B[38;5;129;01min\u001B[39;00m \u001B[38;5;28mrange\u001B[39m(\u001B[38;5;241m0\u001B[39m, X_train_tensor\u001B[38;5;241m.\u001B[39msize(\u001B[38;5;241m0\u001B[39m), batch_size):\n\u001B[0;32m     47\u001B[0m     indices \u001B[38;5;241m=\u001B[39m permutation[i:i\u001B[38;5;241m+\u001B[39mbatch_size]\n\u001B[1;32m---> 48\u001B[0m     batch_X \u001B[38;5;241m=\u001B[39m \u001B[43mX_train_tensor\u001B[49m\u001B[43m[\u001B[49m\u001B[43mindices\u001B[49m\u001B[43m]\u001B[49m\u001B[38;5;241;43m.\u001B[39;49m\u001B[43mto\u001B[49m\u001B[43m(\u001B[49m\u001B[43mdevice\u001B[49m\u001B[43m)\u001B[49m\n\u001B[0;32m     49\u001B[0m     batch_y \u001B[38;5;241m=\u001B[39m y_train_tensor[indices]\u001B[38;5;241m.\u001B[39mto(device)\n\u001B[0;32m     51\u001B[0m     optimizer\u001B[38;5;241m.\u001B[39mzero_grad()\n",
      "\u001B[1;31mKeyboardInterrupt\u001B[0m: "
     ]
    }
   ],
   "execution_count": 23
  }
 ],
 "metadata": {
  "kernelspec": {
   "display_name": "Python 3",
   "language": "python",
   "name": "python3"
  },
  "language_info": {
   "codemirror_mode": {
    "name": "ipython",
    "version": 2
   },
   "file_extension": ".py",
   "mimetype": "text/x-python",
   "name": "python",
   "nbconvert_exporter": "python",
   "pygments_lexer": "ipython2",
   "version": "2.7.6"
  }
 },
 "nbformat": 4,
 "nbformat_minor": 5
}
